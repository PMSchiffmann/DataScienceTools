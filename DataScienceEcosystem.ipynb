{
 "cells": [
  {
   "cell_type": "markdown",
   "id": "ae600d85-277e-4abe-a281-303428776fd9",
   "metadata": {},
   "source": [
    "# Data Science Tools and Ecosystem"
   ]
  },
  {
   "cell_type": "markdown",
   "id": "8fff9762-4f6f-41e0-a2ca-671fcd14bdf0",
   "metadata": {},
   "source": [
    "In this notebook, Data Science Tools and Ecosystem are summarized."
   ]
  },
  {
   "cell_type": "markdown",
   "id": "404580db-f9ce-4857-a86f-fd65f4471c2f",
   "metadata": {},
   "source": [
    "Objectives:\n",
    "   - List popular languages for Data Science\n",
    "   - List common libraries for Data Science\n",
    "   - List open-source Data Science Tools\n",
    "   - etc."
   ]
  },
  {
   "cell_type": "markdown",
   "id": "49ece687-008c-4904-80f1-47d8ba5f7964",
   "metadata": {},
   "source": [
    "Some of the popular languages that Data Scientists use are:\n",
    "1. Python\n",
    "2. R\n",
    "3. SQL\n",
    "4. Java\n",
    "5. Scala\n",
    "6. Julia\n",
    "7. C/C++\n",
    "8. MATLAB"
   ]
  },
  {
   "cell_type": "markdown",
   "id": "f19010a7-5499-4a1b-a549-e26900c871cb",
   "metadata": {},
   "source": [
    "Some of the commonly used (Python) libraries used by Data Scientists include:\n",
    "    \n",
    "    1. Pandas\n",
    "    2. Numpy\n",
    "    3. Matplotlib\n",
    "    4. SciPy\n",
    "    5. Scikitlearn\n",
    "    6. TensorFlow\n",
    "    7. Keras\n",
    "    8. Apache Spark\n",
    "    9. BeautifulSoup"
   ]
  },
  {
   "cell_type": "markdown",
   "id": "da611ce0-7f3c-4d85-bcec-2fc9bea1296d",
   "metadata": {
    "tags": []
   },
   "source": [
    "\n",
    " | Data Science Tools |\n",
    " :---------------------\n",
    " | Apache Hadoop             |\n",
    " | Jupyter Lab        |\n",
    " | RStudio            |"
   ]
  },
  {
   "cell_type": "markdown",
   "id": "ff36a288-2cd3-457e-b68e-7ae67d99ab55",
   "metadata": {
    "tags": []
   },
   "source": [
    "\n",
    "\n",
    "### Below are a few examples of evaluating arithmetic expressions in Python:"
   ]
  },
  {
   "cell_type": "code",
   "execution_count": 1,
   "id": "a7d7bbea-4f8f-4d5a-a709-69406a6725ba",
   "metadata": {},
   "outputs": [
    {
     "data": {
      "text/plain": [
       "17"
      ]
     },
     "execution_count": 1,
     "metadata": {},
     "output_type": "execute_result"
    }
   ],
   "source": [
    "# This a simple arithmetic expression to mutiply then add integers:\n",
    "(3*4)+5"
   ]
  },
  {
   "cell_type": "code",
   "execution_count": 6,
   "id": "eafd03b3-667a-4b08-a07d-fa44212ddbd5",
   "metadata": {},
   "outputs": [
    {
     "name": "stdout",
     "output_type": "stream",
     "text": [
      "200 minutes are equivalent to 3.33 hours\n"
     ]
    }
   ],
   "source": [
    "# his will convert 200 minutes to hours by diving by 60:\n",
    "print(\"200 minutes are equivalent to {} hours\".format(round(200/60,2)))"
   ]
  },
  {
   "cell_type": "markdown",
   "id": "1b8515ae-d385-4091-b36b-469907bd3b97",
   "metadata": {},
   "source": [
    "## Author\n",
    "Pascal Schiffmann"
   ]
  },
  {
   "cell_type": "code",
   "execution_count": null,
   "id": "79fbcba3-8a5b-4a94-a345-c87a63ed91ba",
   "metadata": {},
   "outputs": [],
   "source": []
  }
 ],
 "metadata": {
  "kernelspec": {
   "display_name": "Python 3 (ipykernel)",
   "language": "python",
   "name": "python3"
  },
  "language_info": {
   "codemirror_mode": {
    "name": "ipython",
    "version": 3
   },
   "file_extension": ".py",
   "mimetype": "text/x-python",
   "name": "python",
   "nbconvert_exporter": "python",
   "pygments_lexer": "ipython3",
   "version": "3.8.10"
  }
 },
 "nbformat": 4,
 "nbformat_minor": 5
}
